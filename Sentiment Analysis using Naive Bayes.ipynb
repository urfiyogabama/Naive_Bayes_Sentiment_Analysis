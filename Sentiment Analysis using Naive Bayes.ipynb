{
 "cells": [
  {
   "cell_type": "code",
   "execution_count": 1,
   "metadata": {},
   "outputs": [],
   "source": [
    "from sklearn.feature_extraction.text import CountVectorizer\n",
    "from sklearn.naive_bayes import MultinomialNB\n",
    "from sklearn.metrics import accuracy_score\n",
    "import pandas as pd\n",
    "\n",
    "df=pd.read_csv(r\"D:\\Kerja\\Data\\Data Analyst\\NLP\\sentences.csv\")\n",
    "\n",
    "sentences = df['sentences']\n",
    "labels = df['label']"
   ]
  },
  {
   "cell_type": "code",
   "execution_count": 2,
   "metadata": {},
   "outputs": [
    {
     "name": "stdout",
     "output_type": "stream",
     "text": [
      "Sentiment: Negative\n"
     ]
    }
   ],
   "source": [
    "vectorizer = CountVectorizer()\n",
    "X = vectorizer.fit_transform(sentences) #change to vector\n",
    "\n",
    "new_sentence = \"Padet banget disana, gak berani masuk jadinya\"\n",
    "new_sentence_vector = vectorizer.transform([new_sentence])\n",
    "\n",
    "nb_classifier = MultinomialNB() #the model\n",
    "nb_classifier.fit(X, labels) #train\n",
    "\n",
    "predicted_sentiment = nb_classifier.predict(new_sentence_vector)[0] #predict\n",
    "label_names = [\"Negative\", \"Positive\"]\n",
    "print(f\"Sentiment: {label_names[predicted_sentiment]}\")"
   ]
  },
  {
   "cell_type": "code",
   "execution_count": null,
   "metadata": {},
   "outputs": [],
   "source": []
  }
 ],
 "metadata": {
  "kernelspec": {
   "display_name": "Python 3",
   "language": "python",
   "name": "python3"
  },
  "language_info": {
   "codemirror_mode": {
    "name": "ipython",
    "version": 3
   },
   "file_extension": ".py",
   "mimetype": "text/x-python",
   "name": "python",
   "nbconvert_exporter": "python",
   "pygments_lexer": "ipython3",
   "version": "3.7.6"
  }
 },
 "nbformat": 4,
 "nbformat_minor": 4
}
